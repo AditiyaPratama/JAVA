{
 "cells": [
  {
   "cell_type": "markdown",
   "metadata": {},
   "source": [
    "1A. Tipe data Java apakah yang paling tepat untuk digunakan untuk item - item dari data berikut ini?\n",
    "\n",
    "    nama yang diberikan kepada mahasiswa\n",
    "    jumlah maksimum orang yang diizinkan naik bus;\n",
    "    berat barang yang dibeli di supermarket;\n",
    "    nilai yang diberikan kepada siswa (misalnya ‘A’, ‘B’ atau ‘C’).\n",
    "\n"
   ]
  },
  {
   "cell_type": "raw",
   "metadata": {},
   "source": [
    "Jawab : \n",
    "    a. Type data String\n",
    "    b. Type data integer\n",
    "    c. Type data floating point Float & Double\n",
    "    d. Type data Char"
   ]
  },
  {
   "cell_type": "markdown",
   "metadata": {},
   "source": [
    "2A. Lakukan kompilasi dari baris kode berikut ini dan jelaskan jika menghasilkan kesalahan kompiler (error):"
   ]
  },
  {
   "cell_type": "code",
   "execution_count": 27,
   "metadata": {},
   "outputs": [
    {
     "ename": "incompatible types",
     "evalue": " possible lossy conversion from double to int",
     "output_type": "error",
     "traceback": [
      "\u001b[1;31mincompatible types: possible lossy conversion from double to int\u001b[0;0m",
      "\u001b[1;31m int m = 75.5\u001b[0;0m",
      "\u001b[1;31m         ^   ^ \u001b[0;0m"
     ]
    }
   ],
   "source": [
    "int m = 75.5;\n",
    "double n = 75;"
   ]
  },
  {
   "cell_type": "raw",
   "metadata": {},
   "source": [
    "Jawab :\n",
    "Type data int tidak dapat digunakan untuk angka yang memiliki nilai pecahan. sedangkan type data yang digunakan untuk memasukkan nilai\n",
    "pecahan adalah float & double."
   ]
  },
  {
   "cell_type": "markdown",
   "metadata": {},
   "source": [
    "3A. Manakah dari berikut ini yang akan menjadi nama yang betul untuk suatu variabel."
   ]
  },
  {
   "cell_type": "markdown",
   "metadata": {},
   "source": [
    "ticket\n",
    "\n",
    "cinema ticket\n",
    "\n",
    "cinemaTicket\n",
    "\n",
    "cinema_ticket\n",
    "\n",
    "void\n",
    "\n",
    "Ticket\n",
    "\n",
    "switch"
   ]
  },
  {
   "cell_type": "markdown",
   "metadata": {},
   "source": [
    "Jawab :\n",
    "cinemaTicket\n",
    "ticket"
   ]
  },
  {
   "cell_type": "markdown",
   "metadata": {},
   "source": [
    "4A. Identifikasi dan perbaikilah kesalahan dalam program di bawah ini, yang menanyakan usia pengguna dan kemudian mencoba mencari tahu tahun di mana pengguna dilahirkan."
   ]
  },
  {
   "cell_type": "markdown",
   "metadata": {},
   "source": [
    "Jawab :"
   ]
  },
  {
   "cell_type": "code",
   "execution_count": 34,
   "metadata": {},
   "outputs": [
    {
     "name": "stdout",
     "output_type": "stream",
     "text": [
      " Anda Lahir Tahun 2000\n"
     ]
    },
    {
     "data": {
      "text/plain": [
       "null"
      ]
     },
     "execution_count": 34,
     "metadata": {},
     "output_type": "execute_result"
    }
   ],
   "source": [
    "\n",
    "        int YEAR; \n",
    "        int age, bornIn; \n",
    "        \n",
    "        YEAR = 2020;\n",
    "        age = 20; \n",
    "\n",
    "        bornIn = YEAR - age; \n",
    "\n",
    "        System.out.println(\" Anda Lahir Tahun \" + bornIn);\n"
   ]
  },
  {
   "cell_type": "markdown",
   "metadata": {},
   "source": [
    "5A. Berapa nilai akhir z dalam program berikut:"
   ]
  },
  {
   "cell_type": "markdown",
   "metadata": {},
   "source": [
    "Jawab :"
   ]
  },
  {
   "cell_type": "code",
   "execution_count": 59,
   "metadata": {},
   "outputs": [
    {
     "name": "stdout",
     "output_type": "stream",
     "text": [
      "Nilai Akhir dari z adalah 130\n"
     ]
    },
    {
     "data": {
      "text/plain": [
       "null"
      ]
     },
     "execution_count": 59,
     "metadata": {},
     "output_type": "execute_result"
    }
   ],
   "source": [
    "int v, x, y, z;\n",
    "v = 6;\n",
    "x = 5; \n",
    "y = x + 2 + v; \n",
    "x = 10; \n",
    "z = y * x;\n",
    "        \n",
    "        System.out.println(\"Nilai Akhir dari z adalah \" +z);\n"
   ]
  },
  {
   "cell_type": "markdown",
   "metadata": {},
   "source": [
    "6A. Apa yang akan menjadi keluaran akhir dari program di bawah ini jika num1 diberikan nilai 10"
   ]
  },
  {
   "cell_type": "markdown",
   "metadata": {},
   "source": [
    "Jawab :"
   ]
  },
  {
   "cell_type": "code",
   "execution_count": 30,
   "metadata": {},
   "outputs": [
    {
     "data": {
      "text/plain": [
       "null"
      ]
     },
     "execution_count": 30,
     "metadata": {},
     "output_type": "execute_result"
    }
   ],
   "source": [
    "int num1, num2; \n",
    "\n",
    "num1 = 10;\n",
    "\n",
    "num2 = 6; \n",
    "\n",
    "num1 = num1 + 2; \n",
    "num2 = num1 / num2;"
   ]
  },
  {
   "cell_type": "markdown",
   "metadata": {},
   "source": [
    "hasilnya null"
   ]
  },
  {
   "cell_type": "markdown",
   "metadata": {},
   "source": [
    "7A. Buatlah pseudocode untuk merancang program yang meminta pengguna untuk memasukkan\n",
    "    nilai panjang dan lebar persegi panjang dan kemudian menampilkan luas, keliling dan perimeter persegi panjang tersebut."
   ]
  },
  {
   "cell_type": "markdown",
   "metadata": {},
   "source": [
    "Jawab:"
   ]
  },
  {
   "cell_type": "code",
   "execution_count": 6,
   "metadata": {},
   "outputs": [
    {
     "name": "stdout",
     "output_type": "stream",
     "text": [
      "Masukkan Panjang : 20\n",
      "Masukkan Lebar   : 30\n",
      "Luas Persegi panjang adalah 600\n",
      "Keliling Persegi panjang adalah 100\n"
     ]
    },
    {
     "data": {
      "text/plain": [
       "null"
      ]
     },
     "execution_count": 6,
     "metadata": {},
     "output_type": "execute_result"
    }
   ],
   "source": [
    "import java.util.Scanner;\n",
    "    Scanner input = new Scanner (System.in);\n",
    "        int p, l, luas, keliling;\n",
    "        System.out.print(\"Masukkan Panjang : \");\n",
    "            p = input.nextInt();\n",
    "        System.out.print(\"Masukkan Lebar   : \");\n",
    "            l = input.nextInt();\n",
    "    luas = p * l;\n",
    "    keliling = 2 * (p + l);\n",
    "    \n",
    "        System.out.println(\"Luas Persegi panjang adalah \"+luas);\n",
    "        System.out.println(\"Keliling Persegi panjang adalah \"+keliling);"
   ]
  },
  {
   "cell_type": "markdown",
   "metadata": {},
   "source": [
    "8A. Program di bawah ini ditulis dengan tujuan untuk menukar nilai dari dua variabel. Walaupun tidak memberikan hasil yang diinginkan:"
   ]
  },
  {
   "cell_type": "code",
   "execution_count": 59,
   "metadata": {},
   "outputs": [
    {
     "name": "stdout",
     "output_type": "stream",
     "text": [
      "value for x 20\n",
      "value for y 5\n",
      "x = 5\n",
      "y = 20\n"
     ]
    },
    {
     "data": {
      "text/plain": [
       "null"
      ]
     },
     "execution_count": 59,
     "metadata": {},
     "output_type": "execute_result"
    }
   ],
   "source": [
    "int x, y; \n",
    "\n",
    "    x = 20; \n",
    "    y = 5;\n",
    "        System.out.print(\"value for x \" +x); \n",
    "        System.out.print(\"\\nvalue for y \" +y); \n",
    "   \n",
    "    y = x; \n",
    " \n",
    "        System.out.println(\"\\nx = \" +x); \n",
    "        System.out.println(\"y = \" +y);"
   ]
  },
  {
   "cell_type": "markdown",
   "metadata": {},
   "source": [
    "Jawab :"
   ]
  },
  {
   "cell_type": "markdown",
   "metadata": {},
   "source": [
    "(a) Dapatkah Anda melihat mengapa program tidak melakukan seperti yang diharapkan?"
   ]
  },
  {
   "cell_type": "markdown",
   "metadata": {},
   "source": [
    "karena hanya memiliki 1 perintah."
   ]
  },
  {
   "cell_type": "markdown",
   "metadata": {},
   "source": [
    "(b) Apa yang akan menjadi hasil aktual dari program tersebut?"
   ]
  },
  {
   "cell_type": "markdown",
   "metadata": {},
   "source": [
    "variable tidak dapat di tukar."
   ]
  },
  {
   "cell_type": "markdown",
   "metadata": {},
   "source": [
    "(c) Modifikasilah program di atas sehingga nilai-nilai dari kedua variabel berhasil ditukar?"
   ]
  },
  {
   "cell_type": "code",
   "execution_count": 60,
   "metadata": {},
   "outputs": [
    {
     "name": "stdout",
     "output_type": "stream",
     "text": [
      "value for x 20\n",
      "value for y 5\n",
      "x = 5\n",
      "y = 20\n"
     ]
    },
    {
     "data": {
      "text/plain": [
       "null"
      ]
     },
     "execution_count": 60,
     "metadata": {},
     "output_type": "execute_result"
    }
   ],
   "source": [
    "int x, y; \n",
    "\n",
    "    x = 20; \n",
    "    y = 5;\n",
    "        System.out.print(\"value for x \" +x); \n",
    "        System.out.print(\"\\nvalue for y \" +y); \n",
    "   \n",
    "    x = x ^ y;\n",
    "    y = x ^ y;\n",
    "    x = x ^ y;\n",
    " \n",
    "        System.out.println(\"\\nx = \" +x); \n",
    "        System.out.println(\"y = \" +y);"
   ]
  },
  {
   "cell_type": "markdown",
   "metadata": {},
   "source": [
    "B. Programming exercise"
   ]
  },
  {
   "cell_type": "markdown",
   "metadata": {},
   "source": [
    "1B. Implementasikan dan analisa program dibawah ini :"
   ]
  },
  {
   "cell_type": "code",
   "execution_count": 8,
   "metadata": {},
   "outputs": [
    {
     "name": "stdout",
     "output_type": "stream",
     "text": [
      "*** Product Price Check ***\n",
      "initial price: 20000.0\n",
      "initial tax: 3.020600.0\n"
     ]
    },
    {
     "data": {
      "text/plain": [
       "null"
      ]
     },
     "execution_count": 8,
     "metadata": {},
     "output_type": "execute_result"
    }
   ],
   "source": [
    "double price, tax; \n",
    "\n",
    "    System.out.println(\"*** Product Price Check ***\"); \n",
    "\n",
    "        price = 20000;\n",
    "        tax = 3; \n",
    "    \n",
    "    System.out.print(\"initial price: \"+price); \n",
    "    System.out.print(\"\\ninitial tax: \"+tax);\n",
    "\n",
    "price = price * (1 + tax/100);\n",
    "\n",
    "    System.out.println(price);"
   ]
  },
  {
   "cell_type": "markdown",
   "metadata": {},
   "source": [
    "2B. Implementasikan program dari soal-soal 2.A Self-test Questions nomor 4, 5, 6 dan 8 di atas untuk memverifikasi jawaban Anda terhadap pertanyaan-pertanyaan tersebut."
   ]
  },
  {
   "cell_type": "code",
   "execution_count": null,
   "metadata": {},
   "outputs": [],
   "source": [
    "Jawab :\n",
    "\n",
    "No 4."
   ]
  },
  {
   "cell_type": "code",
   "execution_count": 47,
   "metadata": {},
   "outputs": [
    {
     "name": "stdout",
     "output_type": "stream",
     "text": [
      " Anda Lahir Tahun 2000\n"
     ]
    },
    {
     "data": {
      "text/plain": [
       "null"
      ]
     },
     "execution_count": 47,
     "metadata": {},
     "output_type": "execute_result"
    }
   ],
   "source": [
    " int YEAR; \n",
    "        int age, bornIn; \n",
    "        \n",
    "        YEAR = 2020;\n",
    "        age = 20; \n",
    "\n",
    "        bornIn = YEAR - age; \n",
    "\n",
    "        System.out.println(\" Anda Lahir Tahun \" + bornIn);\n"
   ]
  },
  {
   "cell_type": "markdown",
   "metadata": {},
   "source": [
    "No 5."
   ]
  },
  {
   "cell_type": "code",
   "execution_count": 48,
   "metadata": {},
   "outputs": [
    {
     "name": "stdout",
     "output_type": "stream",
     "text": [
      "Nilai Akhir dari z adalah 130\n"
     ]
    },
    {
     "data": {
      "text/plain": [
       "null"
      ]
     },
     "execution_count": 48,
     "metadata": {},
     "output_type": "execute_result"
    }
   ],
   "source": [
    "int v, x, y, z;\n",
    "    v = 6;\n",
    "    x = 5; \n",
    "    y = x + 2 + v; \n",
    "    x = 10; \n",
    "    z = y * x;\n",
    "\n",
    "        System.out.println(\"Nilai Akhir dari z adalah \" +z);\n"
   ]
  },
  {
   "cell_type": "markdown",
   "metadata": {},
   "source": [
    "No 6."
   ]
  },
  {
   "cell_type": "code",
   "execution_count": 49,
   "metadata": {},
   "outputs": [
    {
     "data": {
      "text/plain": [
       "null"
      ]
     },
     "execution_count": 49,
     "metadata": {},
     "output_type": "execute_result"
    }
   ],
   "source": [
    "int num1, num2; \n",
    "\n",
    "num1 = 10;\n",
    "num2 = 6; \n",
    "\n",
    "num1 = num1 + 2; \n",
    "num2 = num1 / num2;"
   ]
  },
  {
   "cell_type": "markdown",
   "metadata": {},
   "source": [
    "Hasilnya null"
   ]
  },
  {
   "cell_type": "markdown",
   "metadata": {},
   "source": [
    "No 8."
   ]
  },
  {
   "cell_type": "code",
   "execution_count": null,
   "metadata": {},
   "outputs": [],
   "source": [
    "int x, y; \n",
    "\n",
    "    x = 20; \n",
    "    y = 5;\n",
    "        System.out.print(\"value for x \" +x); \n",
    "        System.out.print(\"\\nvalue for y \" +y); \n",
    "   \n",
    "    x = x ^ y;\n",
    "    y = x ^ y;\n",
    "    x = x ^ y;\n",
    " \n",
    "        System.out.println(\"\\nx = \" +x); \n",
    "        System.out.println(\"y = \" +y);"
   ]
  },
  {
   "cell_type": "markdown",
   "metadata": {},
   "source": [
    "3B. Implementasikan program persegi panjang yang Anda rancang dalam 2.A Self-test Questions nomor 7"
   ]
  },
  {
   "cell_type": "markdown",
   "metadata": {},
   "source": [
    "Jawab :"
   ]
  },
  {
   "cell_type": "code",
   "execution_count": 50,
   "metadata": {
    "scrolled": true
   },
   "outputs": [
    {
     "name": "stdout",
     "output_type": "stream",
     "text": [
      "Masukkan Panjang : 20\n",
      "Masukkan Lebar   : 30\n",
      "Luas Persegi panjang adalah 600\n",
      "Keliling Persegi panjang adalah 100\n"
     ]
    },
    {
     "data": {
      "text/plain": [
       "null"
      ]
     },
     "execution_count": 50,
     "metadata": {},
     "output_type": "execute_result"
    }
   ],
   "source": [
    "import java.util.Scanner;\n",
    "    Scanner input = new Scanner (System.in);\n",
    "        int p, l, luas, keliling;\n",
    "        System.out.print(\"Masukkan Panjang : \");\n",
    "            p = input.nextInt();\n",
    "        System.out.print(\"Masukkan Lebar   : \");\n",
    "            l = input.nextInt();\n",
    "    luas = p * l;\n",
    "    keliling = 2 * (p + l);\n",
    "    \n",
    "        System.out.println(\"Luas Persegi panjang adalah \"+luas);\n",
    "        System.out.println(\"Keliling Persegi panjang adalah \"+keliling);"
   ]
  },
  {
   "cell_type": "markdown",
   "metadata": {},
   "source": [
    "4B. Pseudocode ini untuk merancang program yang mengubah pound ke kilo (1 kilo = 2,2 lb)."
   ]
  },
  {
   "cell_type": "code",
   "execution_count": null,
   "metadata": {},
   "outputs": [],
   "source": [
    "BEGIN \n",
    "    SET for pounds \n",
    "    ENTER value in pounds \n",
    "    SET value to old value ÷ 2.2 \n",
    "    DISPLAY value in kilos \n",
    "   END       "
   ]
  },
  {
   "cell_type": "markdown",
   "metadata": {},
   "source": [
    "Jawab :"
   ]
  },
  {
   "cell_type": "code",
   "execution_count": 4,
   "metadata": {
    "scrolled": true
   },
   "outputs": [
    {
     "name": "stdout",
     "output_type": "stream",
     "text": [
      "==========Konversi berat pound ke Kilogram============\n",
      "Masukkan angka untuk di konversikan : 3\n",
      "3 pounds = 1.3636363636363635 kg\n"
     ]
    },
    {
     "data": {
      "text/plain": [
       "null"
      ]
     },
     "execution_count": 4,
     "metadata": {},
     "output_type": "execute_result"
    }
   ],
   "source": [
    "import java.util.Scanner;\n",
    "    Scanner input = new Scanner (System.in);\n",
    "        \n",
    "        int pounds;\n",
    "\n",
    "        System.out.print(\"==========Konversi berat pound ke Kilogram============\\n\");\n",
    "        System.out.print(\"Masukkan angka untuk di konversikan : \");\n",
    "            pounds = input.nextInt();\n",
    "                \n",
    "                double result = 1;\n",
    "                    result = pounds / 2.2;\n",
    "                    \n",
    "                \n",
    "        System.out.println(pounds+ \" pounds = \"+result+\" kg\");"
   ]
  },
  {
   "cell_type": "markdown",
   "metadata": {},
   "source": [
    " "
   ]
  },
  {
   "cell_type": "markdown",
   "metadata": {},
   "source": [
    "5B.\n",
    "\n",
    "Individual Body Mass Index (BMI) adalah ukuran berat ideal seseorang sehubungan dengan tinggi badan mereka. dihitung dengan cara berikut:\n",
    "\n",
    "    membagi berat badan seseorang (dalam kg) dengan kuadrat tinggi badan mereka (dalam meter)\n",
    "\n",
    "Rancang pseudocode dan implementasikan program untuk memungkinkan inisialisasi variabel berat dan tinggi badan untuk kemudian mencetak BMI mereka.\n"
   ]
  },
  {
   "cell_type": "markdown",
   "metadata": {},
   "source": [
    "Pseuducode :"
   ]
  },
  {
   "cell_type": "code",
   "execution_count": null,
   "metadata": {},
   "outputs": [],
   "source": [
    "BEGIN\n",
    "    INPUT BERAT\n",
    "    INPUT TINGGI\n",
    "    HITUNG BMI\n",
    "    CETAK BMI\n",
    "END"
   ]
  },
  {
   "cell_type": "markdown",
   "metadata": {},
   "source": [
    "Program :"
   ]
  },
  {
   "cell_type": "code",
   "execution_count": 61,
   "metadata": {},
   "outputs": [
    {
     "name": "stdout",
     "output_type": "stream",
     "text": [
      "Berat Badan (kg) 90\n",
      "Berat Badan (m) 2\n",
      "Body Max Index = 22.5 kg/m2\n"
     ]
    },
    {
     "data": {
      "text/plain": [
       "null"
      ]
     },
     "execution_count": 61,
     "metadata": {},
     "output_type": "execute_result"
    }
   ],
   "source": [
    "import java.util.Scanner;\n",
    "    Scanner input = new Scanner (System.in);\n",
    "    \n",
    "        double tinggi, berat, BMI;\n",
    "    \n",
    "        System.out.print(\"Berat Badan (kg) \");\n",
    "            berat = input.nextDouble();\n",
    "        \n",
    "        System.out.print(\"Berat Badan (m) \");\n",
    "            tinggi = input.nextDouble();\n",
    "\n",
    "\n",
    "         BMI = berat / (tinggi * tinggi);\n",
    "    \n",
    "    System.out.println(\"Body Max Index = \"+BMI+ \" kg/m2\");"
   ]
  },
  {
   "cell_type": "markdown",
   "metadata": {},
   "source": [
    " "
   ]
  },
  {
   "cell_type": "markdown",
   "metadata": {},
   "source": [
    "6B.\n",
    "Rancanglah dan implementasikan program yang memungkinkan pengguna untuk memasukkan nilai untuk jari-jari lingkaran, lalu menampilkan area dan keliling lingkaran. Note : phi = 3,14 sebagai konstanta\n"
   ]
  },
  {
   "cell_type": "markdown",
   "metadata": {},
   "source": [
    "Pseuducode :"
   ]
  },
  {
   "cell_type": "code",
   "execution_count": null,
   "metadata": {},
   "outputs": [],
   "source": [
    "BEGIN\n",
    "    INPUT JARI-JARI\n",
    "    HITUNG LUAS\n",
    "    HITUNG KELILING\n",
    "    TAMPILKAN LUAS & KELILING\n",
    "END"
   ]
  },
  {
   "cell_type": "markdown",
   "metadata": {},
   "source": [
    "Program :"
   ]
  },
  {
   "cell_type": "code",
   "execution_count": 58,
   "metadata": {},
   "outputs": [
    {
     "name": "stdout",
     "output_type": "stream",
     "text": [
      "Masukkan jari - jari : 40\n",
      "Luas Lingkaran adalah 2512.0 dan keliling 251.20000000000002\n"
     ]
    },
    {
     "data": {
      "text/plain": [
       "null"
      ]
     },
     "execution_count": 58,
     "metadata": {},
     "output_type": "execute_result"
    }
   ],
   "source": [
    "import java.util.Scanner;\n",
    "\n",
    "    Scanner input = new Scanner (System.in);\n",
    "    \n",
    "    double phi = 3.14;\n",
    "    double r,luas,keliling;\n",
    "\n",
    "        System.out.print(\"Masukkan jari - jari : \");\n",
    "            r = input.nextInt();\n",
    "\n",
    "        luas = 0.5 * phi * r * r;\n",
    "        keliling = 2 * phi * r;\n",
    "\n",
    "    System.out.println(\"Luas lingkaran adalah \"+luas+\" dan keliling \"+keliling);\n",
    "\n",
    "        "
   ]
  }
 ],
 "metadata": {
  "kernelspec": {
   "display_name": "Java",
   "language": "java",
   "name": "java"
  },
  "language_info": {
   "codemirror_mode": "text/x-java",
   "file_extension": ".java",
   "mimetype": "",
   "name": "Java",
   "nbconverter_exporter": "",
   "version": "1.8.0_121"
  },
  "toc": {
   "base_numbering": 1,
   "nav_menu": {},
   "number_sections": false,
   "sideBar": false,
   "skip_h1_title": false,
   "title_cell": "Table of Contents",
   "title_sidebar": "Contents",
   "toc_cell": false,
   "toc_position": {},
   "toc_section_display": false,
   "toc_window_display": false
  }
 },
 "nbformat": 4,
 "nbformat_minor": 2
}
