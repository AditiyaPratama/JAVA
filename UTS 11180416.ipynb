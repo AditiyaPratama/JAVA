{
 "cells": [
  {
   "cell_type": "markdown",
   "metadata": {},
   "source": [
    "### Project UTS SI-S1\n",
    "\n",
    "1. Rancang sebuah *Class* bangun ruang **LIMAS SEGILIMA** dengan kemampuan menghitung Volume dari bangun ruang tersebut.\n",
    "2. Buatlah sebuah aplikasi untuk implementasi class dari *point no 1* dalam jupyter notebook ini\n",
    "3. Lakukan rancang kompunen-kompunen yang dibutuhkan\n",
    "4. Lakukan *Enskapsulasi* dari class pada *point no 1* \n",
    "5. Berikan penjelasan dari kode yang anda buat (dalam notebook tersebut).\n",
    "6. Lakukan Eksekusi / *Run* sebelum upload ke github.\n",
    "\n",
    "• **Upload File Notebook ini** (*.ipynb) ke folder github anda paling lambat pada saat jadwal UTS."
   ]
  },
  {
   "cell_type": "code",
   "execution_count": null,
   "metadata": {},
   "outputs": [],
   "source": [
    "//Jawab"
   ]
  },
  {
   "cell_type": "code",
   "execution_count": 2,
   "metadata": {},
   "outputs": [
    {
     "data": {
      "text/plain": [
       "com.twosigma.beaker.javash.bkrf7c7d300.bangunRuang"
      ]
     },
     "execution_count": 2,
     "metadata": {},
     "output_type": "execute_result"
    }
   ],
   "source": [
    "public class bangunRuang{\n",
    "    double volume;\n",
    "    double luasAlas;\n",
    "    double tinggi;\n",
    "    \n",
    "    void hitungVolume(){\n",
    "        System.out.println(\"Hitung Volume Limas\");\n",
    "        volume = luasAlas * tinggi / 3;  \n",
    "    }\n",
    "}"
   ]
  },
  {
   "cell_type": "code",
   "execution_count": 3,
   "metadata": {},
   "outputs": [
    {
     "name": "stdout",
     "output_type": "stream",
     "text": [
      "Hitung Volume Limas\n",
      "Jadi,Volume Limas Segilima adalah 76.66666666666667\n"
     ]
    },
    {
     "data": {
      "text/plain": [
       "null"
      ]
     },
     "execution_count": 3,
     "metadata": {},
     "output_type": "execute_result"
    }
   ],
   "source": [
    "bangunRuang volumeLimas = new bangunRuang();\n",
    "volumeLimas.luasAlas = 10;\n",
    "volumeLimas.tinggi = 23;\n",
    "volumeLimas.hitungVolume();\n",
    "System.out.println(\"Jadi,Volume Limas Segilima adalah \"+volumeLimas.volume);"
   ]
  },
  {
   "cell_type": "code",
   "execution_count": null,
   "metadata": {},
   "outputs": [],
   "source": [
    "//penjelasan"
   ]
  },
  {
   "cell_type": "code",
   "execution_count": null,
   "metadata": {},
   "outputs": [],
   "source": [
    "Class diatas menggunakan method tanpa parameter."
   ]
  }
 ],
 "metadata": {
  "kernelspec": {
   "display_name": "Java",
   "language": "java",
   "name": "java"
  },
  "language_info": {
   "codemirror_mode": "text/x-java",
   "file_extension": ".java",
   "mimetype": "",
   "name": "Java",
   "nbconverter_exporter": "",
   "version": "1.8.0_121"
  },
  "toc": {
   "base_numbering": 1,
   "nav_menu": {},
   "number_sections": false,
   "sideBar": false,
   "skip_h1_title": false,
   "title_cell": "Table of Contents",
   "title_sidebar": "Contents",
   "toc_cell": false,
   "toc_position": {},
   "toc_section_display": false,
   "toc_window_display": false
  }
 },
 "nbformat": 4,
 "nbformat_minor": 4
}
