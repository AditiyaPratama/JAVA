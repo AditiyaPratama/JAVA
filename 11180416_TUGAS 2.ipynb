{
 "cells": [
  {
   "cell_type": "markdown",
   "metadata": {},
   "source": [
    "3.A Self-test Questions"
   ]
  },
  {
   "cell_type": "markdown",
   "metadata": {},
   "source": [
    "1. Jelaskan perbedaannya sequence and selection dalam control process?"
   ]
  },
  {
   "cell_type": "markdown",
   "metadata": {},
   "source": [
    "Jawab :"
   ]
  },
  {
   "cell_type": "raw",
   "metadata": {},
   "source": [
    "Perbedaan sequence dan Selection :\n",
    "\n",
    "Sequence : Mendeskripsikan urutan program yang dilakukan satu demi satu, sedangkan\n",
    "selection : Program yang memungkinkan dapat memilih tindakan yang berbeda. Contoh : if, NEsted if"
   ]
  },
  {
   "cell_type": "markdown",
   "metadata": {},
   "source": [
    " "
   ]
  },
  {
   "cell_type": "markdown",
   "metadata": {},
   "source": [
    "2. Program Java berikut untuk menampilkan biaya tiket bioskop."
   ]
  },
  {
   "cell_type": "code",
   "execution_count": null,
   "metadata": {},
   "outputs": [],
   "source": [
    "price = 10.00; \n",
    "int age; \n",
    "age = ?;\n",
    "System.out.print(\"Umur penonton : \"+age); \n",
    "// code to reduce ticket price for children goes here \n",
    "System.out.println(\"Ticket price = \" + price);"
   ]
  },
  {
   "cell_type": "markdown",
   "metadata": {},
   "source": [
    "[a] type data apakan yang tepat intuk variable price? dan jika variable age diisikan nilai 11 bagaimanakah keluaran program tersebut?"
   ]
  },
  {
   "cell_type": "code",
   "execution_count": 7,
   "metadata": {},
   "outputs": [
    {
     "name": "stdout",
     "output_type": "stream",
     "text": [
      "Umur penonton : 11\n",
      "Ticket price = 10.0\n"
     ]
    },
    {
     "data": {
      "text/plain": [
       "null"
      ]
     },
     "execution_count": 7,
     "metadata": {},
     "output_type": "execute_result"
    }
   ],
   "source": [
    "double price = 10.000; \n",
    "int age; \n",
    "age = 11;\n",
    "System.out.print(\"Umur penonton : \"+age); \n",
    "// code to reduce ticket price for children goes here \n",
    "System.out.println(\"\\nTicket price = \" + price);"
   ]
  },
  {
   "cell_type": "markdown",
   "metadata": {},
   "source": [
    "[b] Ubahlah program tersebut sehingga anak-anak di bawah usia 14 mendapatkan tiket setengah harga."
   ]
  },
  {
   "cell_type": "code",
   "execution_count": 56,
   "metadata": {},
   "outputs": [
    {
     "name": "stdout",
     "output_type": "stream",
     "text": [
      "Masukkan Umur : 14\n",
      "Harga = 5.0\n"
     ]
    },
    {
     "data": {
      "text/plain": [
       "null"
      ]
     },
     "execution_count": 56,
     "metadata": {},
     "output_type": "execute_result"
    }
   ],
   "source": [
    "import java.util.Scanner;\n",
    "    Scanner input = new Scanner (System.in);\n",
    "\n",
    "    double price, discount; \n",
    "    int age; \n",
    "    System.out.print(\"Masukkan Umur : \");\n",
    "        age = input.nextInt();\n",
    "        price = 10.0;\n",
    "        discount = price/2;\n",
    "\n",
    "    if (age > 14){\n",
    "            System.out.println(\"Harga = \"+price);\n",
    "        }\n",
    "    else{\n",
    "            System.out.println(\"Harga = \"+discount);\n",
    "    }"
   ]
  },
  {
   "cell_type": "markdown",
   "metadata": {},
   "source": [
    " "
   ]
  },
  {
   "cell_type": "markdown",
   "metadata": {},
   "source": [
    "3. Berdasarkan program java berikut ini :"
   ]
  },
  {
   "cell_type": "code",
   "execution_count": null,
   "metadata": {},
   "outputs": [],
   "source": [
    "int x; \n",
    "x = 10; \n",
    " if (x > 10) { \n",
    "   System.out.println(\"Green\"); \n",
    " }else{ \n",
    "   System.out.println(\"Blue\"); \n",
    "  } \n",
    "\n",
    " System.out.println(\"Red\");"
   ]
  },
  {
   "cell_type": "markdown",
   "metadata": {},
   "source": [
    "Jawablah pertanyaan berikut bagaimana output program tersebut"
   ]
  },
  {
   "cell_type": "markdown",
   "metadata": {},
   "source": [
    "[a] jika variable x diisikan 10?"
   ]
  },
  {
   "cell_type": "code",
   "execution_count": 8,
   "metadata": {},
   "outputs": [
    {
     "name": "stdout",
     "output_type": "stream",
     "text": [
      "Blue\n",
      "Red\n"
     ]
    },
    {
     "data": {
      "text/plain": [
       "null"
      ]
     },
     "execution_count": 8,
     "metadata": {},
     "output_type": "execute_result"
    }
   ],
   "source": [
    "int x; \n",
    "x = 10; \n",
    " if (x > 10) { \n",
    "   System.out.println(\"Green\"); \n",
    " }else{ \n",
    "   System.out.println(\"Blue\"); \n",
    "  } \n",
    "\n",
    " System.out.println(\"Red\");"
   ]
  },
  {
   "cell_type": "markdown",
   "metadata": {},
   "source": [
    "[b] jika variable x diisikan 20?"
   ]
  },
  {
   "cell_type": "code",
   "execution_count": 18,
   "metadata": {},
   "outputs": [
    {
     "name": "stdout",
     "output_type": "stream",
     "text": [
      "Green\n",
      "Red\n"
     ]
    },
    {
     "data": {
      "text/plain": [
       "null"
      ]
     },
     "execution_count": 18,
     "metadata": {},
     "output_type": "execute_result"
    }
   ],
   "source": [
    "int x; \n",
    "x = 20; \n",
    " if (x > 10) { \n",
    "   System.out.println(\"Green\"); \n",
    " }else{ \n",
    "   System.out.println(\"Blue\"); \n",
    "  } \n",
    "\n",
    " System.out.println(\"Red\");"
   ]
  },
  {
   "cell_type": "markdown",
   "metadata": {},
   "source": [
    " "
   ]
  },
  {
   "cell_type": "markdown",
   "metadata": {},
   "source": [
    "4. Berdasarkan program java berikut ini:"
   ]
  },
  {
   "cell_type": "code",
   "execution_count": null,
   "metadata": {},
   "outputs": [],
   "source": [
    "int y; \n",
    "\n",
    "y = ?; \n",
    "\n",
    "switch (y) \n",
    " { case 1: \n",
    "   case 2: \n",
    "   System.out.println(\"Green\"); break; \n",
    "   case 3: \n",
    "   case 4: \n",
    "   case 5: System.out.println(\"Blue\"); break; \n",
    "   default: System.out.println(\"numbers 1-5 only\"); \n",
    "  } \n",
    " System.out.println(\"Red\");"
   ]
  },
  {
   "cell_type": "markdown",
   "metadata": {},
   "source": [
    "Jawablah pertanyaan berikut, bagaimana output program tersebut"
   ]
  },
  {
   "cell_type": "markdown",
   "metadata": {},
   "source": [
    "[a] jika variable y diisikan 1?"
   ]
  },
  {
   "cell_type": "code",
   "execution_count": 20,
   "metadata": {},
   "outputs": [
    {
     "name": "stdout",
     "output_type": "stream",
     "text": [
      "Green\n",
      "Red\n"
     ]
    },
    {
     "data": {
      "text/plain": [
       "null"
      ]
     },
     "execution_count": 20,
     "metadata": {},
     "output_type": "execute_result"
    }
   ],
   "source": [
    "int y; \n",
    "\n",
    "y = 1; \n",
    "\n",
    "switch (y) \n",
    " { case 1: \n",
    "   case 2: \n",
    "   System.out.println(\"Green\"); break; \n",
    "   case 3: \n",
    "   case 4: \n",
    "   case 5: System.out.println(\"Blue\"); break; \n",
    "   default: System.out.println(\"numbers 1-5 only\"); \n",
    "  } \n",
    " System.out.println(\"Red\");"
   ]
  },
  {
   "cell_type": "markdown",
   "metadata": {},
   "source": [
    "[b] jika variable y diisikan 2?"
   ]
  },
  {
   "cell_type": "code",
   "execution_count": 21,
   "metadata": {},
   "outputs": [
    {
     "name": "stdout",
     "output_type": "stream",
     "text": [
      "Green\n",
      "Red\n"
     ]
    },
    {
     "data": {
      "text/plain": [
       "null"
      ]
     },
     "execution_count": 21,
     "metadata": {},
     "output_type": "execute_result"
    }
   ],
   "source": [
    "int y; \n",
    "\n",
    "y = 2; \n",
    "\n",
    "switch (y) \n",
    " { case 1: \n",
    "   case 2: \n",
    "   System.out.println(\"Green\"); break; \n",
    "   case 3: \n",
    "   case 4: \n",
    "   case 5: System.out.println(\"Blue\"); break; \n",
    "   default: System.out.println(\"numbers 1-5 only\"); \n",
    "  } \n",
    " System.out.println(\"Red\");"
   ]
  },
  {
   "cell_type": "markdown",
   "metadata": {},
   "source": [
    "[c] jika variable y diisikan 3?"
   ]
  },
  {
   "cell_type": "code",
   "execution_count": 22,
   "metadata": {},
   "outputs": [
    {
     "name": "stdout",
     "output_type": "stream",
     "text": [
      "Blue\n",
      "Red\n"
     ]
    },
    {
     "data": {
      "text/plain": [
       "null"
      ]
     },
     "execution_count": 22,
     "metadata": {},
     "output_type": "execute_result"
    }
   ],
   "source": [
    "int y; \n",
    "\n",
    "y = 3; \n",
    "\n",
    "switch (y) \n",
    " { case 1: \n",
    "   case 2: \n",
    "   System.out.println(\"Green\"); break; \n",
    "   case 3: \n",
    "   case 4: \n",
    "   case 5: System.out.println(\"Blue\"); break; \n",
    "   default: System.out.println(\"numbers 1-5 only\"); \n",
    "  } \n",
    " System.out.println(\"Red\");"
   ]
  },
  {
   "cell_type": "markdown",
   "metadata": {},
   "source": [
    "[d] jika variable y diisikan 10?"
   ]
  },
  {
   "cell_type": "code",
   "execution_count": 23,
   "metadata": {},
   "outputs": [
    {
     "name": "stdout",
     "output_type": "stream",
     "text": [
      "numbers 1-5 only\n",
      "Red\n"
     ]
    },
    {
     "data": {
      "text/plain": [
       "null"
      ]
     },
     "execution_count": 23,
     "metadata": {},
     "output_type": "execute_result"
    }
   ],
   "source": [
    "int y; \n",
    "\n",
    "y = 10; \n",
    "\n",
    "switch (y) \n",
    " { case 1: \n",
    "   case 2: \n",
    "   System.out.println(\"Green\"); break; \n",
    "   case 3: \n",
    "   case 4: \n",
    "   case 5: System.out.println(\"Blue\"); break; \n",
    "   default: System.out.println(\"numbers 1-5 only\"); \n",
    "  } \n",
    " System.out.println(\"Red\");"
   ]
  },
  {
   "cell_type": "markdown",
   "metadata": {},
   "source": [
    "[e] Jika statements break dihapus dari seleksi switch dan variable y diisikan 3?"
   ]
  },
  {
   "cell_type": "code",
   "execution_count": 24,
   "metadata": {},
   "outputs": [
    {
     "name": "stdout",
     "output_type": "stream",
     "text": [
      "Blue\n",
      "numbers 1-5 only\n",
      "Red\n"
     ]
    },
    {
     "data": {
      "text/plain": [
       "null"
      ]
     },
     "execution_count": 24,
     "metadata": {},
     "output_type": "execute_result"
    }
   ],
   "source": [
    "int y; \n",
    "\n",
    "y = 3; \n",
    "\n",
    "switch (y) \n",
    " { case 1: \n",
    "   case 2: \n",
    "   System.out.println(\"Green\"); \n",
    "   case 3: \n",
    "   case 4: \n",
    "   case 5: System.out.println(\"Blue\"); \n",
    "   default: System.out.println(\"numbers 1-5 only\"); \n",
    "  } \n",
    " System.out.println(\"Red\");"
   ]
  },
  {
   "cell_type": "markdown",
   "metadata": {},
   "source": [
    "[f] Jika statements default dihapus dari seleksi switch dan variable y diisikan 10?"
   ]
  },
  {
   "cell_type": "code",
   "execution_count": 25,
   "metadata": {},
   "outputs": [
    {
     "ename": "unreachable statement",
     "evalue": "unreachable statement",
     "output_type": "error",
     "traceback": [
      "\u001b[1;31munreachable statement\u001b[0;0m",
      "\u001b[1;31m System.out.println(\"numbers 1-5 only\");\u001b[0;0m",
      "\u001b[1;31m ^                                      ^ \u001b[0;0m"
     ]
    }
   ],
   "source": [
    "int y; \n",
    "\n",
    "y = 10; \n",
    "\n",
    "switch (y) \n",
    " { case 1: \n",
    "   case 2: \n",
    "   System.out.println(\"Green\"); break; \n",
    "   case 3: \n",
    "   case 4: \n",
    "   case 5: System.out.println(\"Blue\"); break; \n",
    "           System.out.println(\"numbers 1-5 only\"); \n",
    "  } \n",
    " System.out.println(\"Red\");"
   ]
  },
  {
   "cell_type": "markdown",
   "metadata": {},
   "source": [
    " "
   ]
  },
  {
   "cell_type": "markdown",
   "metadata": {},
   "source": [
    "5. Berdasarkan program berikut:"
   ]
  },
  {
   "cell_type": "code",
   "execution_count": 26,
   "metadata": {},
   "outputs": [
    {
     "name": "stdout",
     "output_type": "stream",
     "text": [
      "YES 1\n",
      "YES 2\n",
      "YES 3\n",
      "YES 4\n",
      "OK\n"
     ]
    },
    {
     "data": {
      "text/plain": [
       "null"
      ]
     },
     "execution_count": 26,
     "metadata": {},
     "output_type": "execute_result"
    }
   ],
   "source": [
    "//program ulang1\n",
    " for(int i = 1; i <= 4; i++) \n",
    " { \n",
    "   System.out.println(\"YES \"+i);  \n",
    " } \n",
    " System.out.println(\"OK\");"
   ]
  },
  {
   "cell_type": "markdown",
   "metadata": {},
   "source": [
    "[1] berapa kalikah pesan \"YES\" akan ditampilkan"
   ]
  },
  {
   "cell_type": "markdown",
   "metadata": {},
   "source": [
    "Pesan \"YES\" ditampilkan sebanyak 4x"
   ]
  },
  {
   "cell_type": "markdown",
   "metadata": {},
   "source": [
    "[2] apakah output dari program tersebut?"
   ]
  },
  {
   "cell_type": "code",
   "execution_count": 27,
   "metadata": {},
   "outputs": [
    {
     "name": "stdout",
     "output_type": "stream",
     "text": [
      "YES 1\n",
      "YES 2\n",
      "YES 3\n",
      "YES 4\n",
      "OK\n"
     ]
    },
    {
     "data": {
      "text/plain": [
       "null"
      ]
     },
     "execution_count": 27,
     "metadata": {},
     "output_type": "execute_result"
    }
   ],
   "source": [
    "//program ulang1\n",
    " for(int i = 1; i <= 4; i++) \n",
    " { \n",
    "   System.out.println(\"YES \"+i);  \n",
    " } \n",
    " System.out.println(\"OK\");"
   ]
  },
  {
   "cell_type": "markdown",
   "metadata": {},
   "source": [
    "Berdasarkan program berikut:"
   ]
  },
  {
   "cell_type": "code",
   "execution_count": 32,
   "metadata": {},
   "outputs": [
    {
     "name": "stdout",
     "output_type": "stream",
     "text": [
      "OK\n"
     ]
    },
    {
     "data": {
      "text/plain": [
       "null"
      ]
     },
     "execution_count": 32,
     "metadata": {},
     "output_type": "execute_result"
    }
   ],
   "source": [
    "//program ulang2\n",
    " for(int j = 12; j < 3; j--) \n",
    " { \n",
    "   System.out.println(\"YES  \"+j);  \n",
    " } \n",
    "System.out.println(\"OK\");"
   ]
  },
  {
   "cell_type": "markdown",
   "metadata": {},
   "source": [
    "[3] berapa kalikah pesan \"YES\" akan ditampilkan"
   ]
  },
  {
   "cell_type": "raw",
   "metadata": {},
   "source": [
    "Pesan \"YES\" tidak tampil, karena variable j lebih besar, sehingga pesan \"YES\" tidak dapat ditampilkan"
   ]
  },
  {
   "cell_type": "markdown",
   "metadata": {},
   "source": [
    "[4] apakah output dari program tersebut?"
   ]
  },
  {
   "cell_type": "code",
   "execution_count": 29,
   "metadata": {},
   "outputs": [
    {
     "name": "stdout",
     "output_type": "stream",
     "text": [
      "OK\n"
     ]
    },
    {
     "data": {
      "text/plain": [
       "null"
      ]
     },
     "execution_count": 29,
     "metadata": {},
     "output_type": "execute_result"
    }
   ],
   "source": [
    "//program ulang2\n",
    " for(int j = 12; j < 3; j--) \n",
    " { \n",
    "   System.out.println(\"YES  \"+j);  \n",
    " } \n",
    "System.out.println(\"OK\");"
   ]
  },
  {
   "cell_type": "markdown",
   "metadata": {},
   "source": [
    "[5] Berikanlah penjelasan perbedaaan dari kedua program program ulang1 dan ulang2 tersebut diatas"
   ]
  },
  {
   "cell_type": "raw",
   "metadata": {},
   "source": [
    "Perbedaan Program ulang 1 & Program ulang 2 :\n",
    "Program ulang 1 : Variable i, diinputkan lebih kecil dari angka yang ditentukan, sehingga pesan \"YES\" dapat ditampilkan\n",
    "Program ulang 2 : Variable j, diinputkan lebih besar dari angka yang ditentukan, sehingga pesan \"YES\" Tidak dapat ditampilkan."
   ]
  },
  {
   "cell_type": "markdown",
   "metadata": {},
   "source": [
    " "
   ]
  },
  {
   "cell_type": "markdown",
   "metadata": {},
   "source": [
    "6. Berdasarkan program forif1 dan forif2 berikut ini apakah yang menjadi output dari dua program berikut?"
   ]
  },
  {
   "cell_type": "code",
   "execution_count": 33,
   "metadata": {},
   "outputs": [
    {
     "name": "stdout",
     "output_type": "stream",
     "text": [
      "1\n",
      "2\n",
      "3\n",
      "4\n",
      "5\n",
      "6\n",
      "7\n",
      "8\n",
      "9\n",
      "10\n"
     ]
    },
    {
     "data": {
      "text/plain": [
       "null"
      ]
     },
     "execution_count": 33,
     "metadata": {},
     "output_type": "execute_result"
    }
   ],
   "source": [
    "//program forif1\n",
    "    for(int l=1; l<=10; l++)  \n",
    "    { if (l > 5)   \n",
    "      { break;   } \n",
    "        System.out.println(l);  \n",
    "    }\n",
    "\n",
    "//program forif2\n",
    "    for(int i=1; i<=10; i++)  \n",
    "    { if (i <= 5){ continue; } \n",
    "    System.out.println(i);}\n"
   ]
  },
  {
   "cell_type": "markdown",
   "metadata": {},
   "source": [
    " "
   ]
  },
  {
   "cell_type": "markdown",
   "metadata": {},
   "source": [
    "3.B Self-test Questions"
   ]
  },
  {
   "cell_type": "markdown",
   "metadata": {},
   "source": [
    "1. Rancanglah dan implementasikan program yang membandingkan dua angka dan kemudian menampilkan pesan “NUMBERS ARE EQUAL”, jika dua angka tersebut sama dan pesan “NUMBERS ARE NOT EQUAL”, jika kedua angka tersebut tidak sama. [jangan lupa untuk menggunakan double sama dengan (= =) untuk menguji kesetaraan (equality)"
   ]
  },
  {
   "cell_type": "code",
   "execution_count": 37,
   "metadata": {},
   "outputs": [
    {
     "name": "stdout",
     "output_type": "stream",
     "text": [
      "Masukkan angka pertama : 2\n",
      "Masukkan angka kedua   : 2\n",
      "NUMBERS ARE EQUAL\n"
     ]
    },
    {
     "data": {
      "text/plain": [
       "null"
      ]
     },
     "execution_count": 37,
     "metadata": {},
     "output_type": "execute_result"
    }
   ],
   "source": [
    "import java.util.Scanner;\n",
    "    Scanner input = new Scanner (System.in);\n",
    "    \n",
    "    int first, second;\n",
    "    System.out.print(\"Masukkan angka pertama : \");\n",
    "        first = input.nextInt();\n",
    "\n",
    "    System.out.print(\"Masukkan angka kedua   : \");\n",
    "        second = input.nextInt();\n",
    "    \n",
    "    if (first==second){\n",
    "        \n",
    "        System.out.println(\"NUMBERS ARE EQUAL\");\n",
    "    }\n",
    "    else{\n",
    "        System.out.println(\"NUMBERS ARE NOT EQUAL\");\n",
    "    }"
   ]
  },
  {
   "cell_type": "markdown",
   "metadata": {},
   "source": [
    " "
   ]
  },
  {
   "cell_type": "raw",
   "metadata": {},
   "source": [
    "2. Jelaskan kapan waktu yang tepat untuk penggunaan\n",
    "\n",
    "    pernyataan if?\n",
    "    pernyataan if… else?\n",
    "    pernyataan switch?\n"
   ]
  },
  {
   "cell_type": "markdown",
   "metadata": {},
   "source": [
    "Jawab :"
   ]
  },
  {
   "cell_type": "raw",
   "metadata": {},
   "source": [
    " - Pernyataan if, Digunakan pada saat menentukan blok kode yang akan di eksekusi, jika kondisi yang ditentukan benar.\n",
    " - Pernyataan if else, Digunakan pada saar menentukan kondisi baru untuk diuji, jika kondisi pertama salah.\n",
    " - Pernyataan Switch, Digunakan pada saat menentukan banyak blok kode alternatif yang akan di eksekusi."
   ]
  },
  {
   "cell_type": "markdown",
   "metadata": {},
   "source": [
    " "
   ]
  },
  {
   "cell_type": "markdown",
   "metadata": {},
   "source": [
    "3. Rubahlah program forif1 dan forif2 dalam 3.A Self-test Questions soal Soal 3.A6. menggunakan bentuk perulangan while dan do..while"
   ]
  },
  {
   "cell_type": "code",
   "execution_count": 40,
   "metadata": {},
   "outputs": [
    {
     "name": "stdout",
     "output_type": "stream",
     "text": [
      "1\n",
      "2\n",
      "3\n",
      "4\n",
      "5\n",
      "6\n",
      "7\n",
      "8\n",
      "9\n",
      "10\n"
     ]
    },
    {
     "data": {
      "text/plain": [
       "null"
      ]
     },
     "execution_count": 40,
     "metadata": {},
     "output_type": "execute_result"
    }
   ],
   "source": [
    "int l = 1;\n",
    "    while (l <= 10){\n",
    "        System.out.println(l);\n",
    "        l++;\n",
    "    }"
   ]
  },
  {
   "cell_type": "code",
   "execution_count": 39,
   "metadata": {},
   "outputs": [
    {
     "name": "stdout",
     "output_type": "stream",
     "text": [
      "1\n",
      "2\n",
      "3\n",
      "4\n",
      "5\n",
      "6\n",
      "7\n",
      "8\n",
      "9\n",
      "10\n"
     ]
    },
    {
     "data": {
      "text/plain": [
       "null"
      ]
     },
     "execution_count": 39,
     "metadata": {},
     "output_type": "execute_result"
    }
   ],
   "source": [
    "int i = 1;\n",
    "    do{\n",
    "        System.out.println(i);\n",
    "        i++;\n",
    "    }\n",
    "    while (l <= 10);"
   ]
  }
 ],
 "metadata": {
  "kernelspec": {
   "display_name": "Java",
   "language": "java",
   "name": "java"
  },
  "language_info": {
   "codemirror_mode": "text/x-java",
   "file_extension": ".java",
   "mimetype": "",
   "name": "Java",
   "nbconverter_exporter": "",
   "version": "1.8.0_121"
  },
  "toc": {
   "base_numbering": 1,
   "nav_menu": {},
   "number_sections": false,
   "sideBar": false,
   "skip_h1_title": false,
   "title_cell": "Table of Contents",
   "title_sidebar": "Contents",
   "toc_cell": false,
   "toc_position": {},
   "toc_section_display": false,
   "toc_window_display": false
  }
 },
 "nbformat": 4,
 "nbformat_minor": 2
}
